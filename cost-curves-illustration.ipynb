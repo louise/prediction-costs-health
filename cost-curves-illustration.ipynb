{
 "cells": [
  {
   "cell_type": "code",
   "execution_count": null,
   "metadata": {},
   "outputs": [],
   "source": [
    "\n",
    "# my helper functions for this project\n",
    "import importlib\n",
    "import helper\n",
    "importlib.reload(helper)\n"
   ]
  },
  {
   "cell_type": "code",
   "execution_count": null,
   "metadata": {},
   "outputs": [],
   "source": [
    "# make the test data\n",
    "\n",
    "import pandas as pd\n",
    "import numpy as np\n",
    "\n",
    "# positive class: 1 \n",
    "# negative class: 0\n",
    "# high score -> more likely to be positive\n",
    "\n",
    "d = {'score': [0.05, 0.1 ,0.20, 0.70, 0.70, 0.90, 0.90, 0.95], 'label': [0,0, 1, 0, 1, 1, 0, 1]}\n",
    "df = pd.DataFrame(data=d)\n",
    "df\n",
    "\n",
    "\n"
   ]
  },
  {
   "cell_type": "code",
   "execution_count": null,
   "metadata": {},
   "outputs": [],
   "source": [
    "# calculate TPR and FPR for each point on ROC space\n",
    "\n",
    "importlib.reload(helper)\n",
    "df = helper.calculateROCPoints(df)\n",
    "\n",
    "df\n"
   ]
  },
  {
   "cell_type": "code",
   "execution_count": null,
   "metadata": {},
   "outputs": [],
   "source": [
    "\n",
    "# plot roc curve with specific colours for each point to show correspondance with each cost line\n",
    "# in the cost curve plotted below\n",
    "\n",
    "import matplotlib.pyplot as plt\n",
    "\n",
    "cols = ['blue', 'green', 'orange', 'red', 'pink', 'lightgreen', 'red', 'lightgrey', 'lightgreen']\n",
    "\n",
    "# plot ROC\n",
    "plt.plot(df['fpr'], df['tpr'])\n",
    "plt.scatter(df['fpr'], df['tpr'], c=cols, s=100)\n",
    "\n",
    "# plot convex hull\n",
    "plt.plot([0,0.5], [0.25,1], linestyle='--', color='green')\n",
    "\n",
    "plt.xlabel('FPR')\n",
    "plt.ylabel('TPR')\n",
    "plt.show()\n",
    "\n"
   ]
  },
  {
   "cell_type": "code",
   "execution_count": null,
   "metadata": {},
   "outputs": [],
   "source": [
    "## plot cost curve with specific colours for each line to show correspondance with ROC curve above \n",
    "\n",
    "import matplotlib.pyplot as plt \n",
    "\n",
    "# calc class distribution\n",
    "nN = np.sum(df.label==0)\n",
    "nP = np.sum(df.label==1)\n",
    "piP = nP/(nP+nN)\n",
    "piN = 1-piP\n",
    "\n",
    "b = 2\n",
    "c_0 = 1\n",
    "c = c_0 / 2\n",
    "\n",
    "fig, ax = plt.subplots()\n",
    "\n",
    "# plot line in cost space for each F0 F1 pair in ROC space\n",
    "for i in range(0,df.shape[0]):\n",
    "\n",
    "    gradient = 2*(piP*df.loc[i,'tpr'] - piP*(1-df.loc[i,'fpr']))\n",
    "    intercept = 2*piN * (1-df.loc[i,'tpr'])\n",
    "\n",
    "    # plot cost line\n",
    "    ax.axline((0, intercept), slope=gradient, color=cols[i])\n",
    "    ax.set_xlim(0, 1)\n",
    "    ax.set_ylim(0, 1)\n",
    "\n",
    "\n",
    "# plot lower envelope\n",
    "importlib.reload(helper)\n",
    "lowerEnv = helper.lowerEnvelope(df)\n",
    "plt.plot(lowerEnv['cost'], lowerEnv['loss'], color='black', linestyle=':')\n",
    "ax.set_ylabel(\"Loss\")\n",
    "ax.set_xlabel(\"Cost\")\n",
    "\n",
    "plt.xlabel('Cost')\n",
    "plt.ylabel('Loss');\n"
   ]
  }
 ],
 "metadata": {
  "kernelspec": {
   "display_name": "Python 3",
   "language": "python",
   "name": "python3"
  },
  "language_info": {
   "codemirror_mode": {
    "name": "ipython",
    "version": 3
   },
   "file_extension": ".py",
   "mimetype": "text/x-python",
   "name": "python",
   "nbconvert_exporter": "python",
   "pygments_lexer": "ipython3",
   "version": "3.12.2"
  }
 },
 "nbformat": 4,
 "nbformat_minor": 2
}
