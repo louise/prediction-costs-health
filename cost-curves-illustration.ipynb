{
 "cells": [
  {
   "cell_type": "code",
   "execution_count": null,
   "metadata": {},
   "outputs": [],
   "source": [
    "\n",
    "# my helper functions for this project\n",
    "import importlib\n",
    "import helper\n",
    "importlib.reload(helper)\n"
   ]
  },
  {
   "cell_type": "code",
   "execution_count": null,
   "metadata": {},
   "outputs": [],
   "source": [
    "# make the test data\n",
    "\n",
    "import pandas as pd\n",
    "import numpy as np\n",
    "\n",
    "# positive class: 1 \n",
    "# negative class: 0\n",
    "# high score -> more likely to be positive\n",
    "\n",
    "d = {'score': [0.05, 0.1 ,0.20, 0.70, 0.70, 0.90, 0.90, 0.95], 'label': [0,0, 1, 0, 1, 1, 0, 1]}\n",
    "df = pd.DataFrame(data=d)\n",
    "df\n",
    "\n",
    "\n"
   ]
  },
  {
   "cell_type": "code",
   "execution_count": null,
   "metadata": {},
   "outputs": [],
   "source": [
    "# calculate TPR and FPR for each point on ROC space\n",
    "\n",
    "importlib.reload(helper)\n",
    "df = helper.calculateROCPoints(df)\n",
    "\n",
    "df\n"
   ]
  },
  {
   "cell_type": "code",
   "execution_count": null,
   "metadata": {},
   "outputs": [],
   "source": [
    "\n",
    "# plot roc curve\n",
    "import matplotlib.pyplot as plt\n",
    "\n",
    "cols = ['blue', 'green', 'orange', 'red', 'pink', 'lightgreen', 'red', 'lightgrey', 'lightgreen']\n",
    "\n",
    "#df.interpolate(method='linear')\n",
    "# df.plot(kind = 'line', x = 'fpr', y ='tpr')\n",
    "# df.plot(kind = 'scatter', x = 'fpr', y ='tpr', c=cols)\n",
    "\n",
    "plt.plot(df['fpr'], df['tpr'])\n",
    "plt.scatter(df['fpr'], df['tpr'], c=cols, s=100)\n",
    "\n",
    "plt.plot([0,0.5], [0.25,1], linestyle='--', color='green')\n",
    "plt.xlabel('FPR')\n",
    "plt.ylabel('TPR')\n",
    "plt.show()\n",
    "\n"
   ]
  },
  {
   "cell_type": "code",
   "execution_count": null,
   "metadata": {},
   "outputs": [],
   "source": [
    "import matplotlib.pyplot as plt \n",
    "\n",
    "# Calculate loss for different costs\n",
    "nN = np.sum(df.label==0)\n",
    "nP = np.sum(df.label==1)\n",
    "piP = nP/(nP+nN)\n",
    "piN = 1-piP\n",
    "\n",
    "b = 2\n",
    "c_0 = 1\n",
    "c = c_0 / 2\n",
    "\n",
    "fig, ax = plt.subplots()\n",
    "\n",
    "#cols = ['blue', 'green', 'orange', 'darkgrey', 'red', 'pink', 'black', 'lightgreen', 'purple', 'brown', 'lightgrey']\n",
    "\n",
    "\n",
    "# plot line in cost space for each F0 F1 pair in ROC space\n",
    "for i in range(0,df.shape[0]):\n",
    "\n",
    "    gradient = 2*(piP*df.loc[i,'tpr'] - piP*(1-df.loc[i,'fpr']))\n",
    "    intercept = 2*piN * (1-df.loc[i,'tpr'])\n",
    "\n",
    "    ax.axline((0, intercept), slope=gradient, color=cols[i])\n",
    "    ax.set_xlim(0, 1)\n",
    "    ax.set_ylim(0, 1)\n",
    "\n",
    "\n",
    "# plot lower envelope\n",
    "importlib.reload(helper)\n",
    "lowerEnv = helper.lowerEnvelope(df)\n",
    "plt.plot(lowerEnv['cost'], lowerEnv['loss'], color='black', linestyle=':')\n",
    "ax.set_ylabel(\"Loss\")\n",
    "ax.set_xlabel(\"Cost\")\n",
    "\n",
    "\n",
    "plt.xlabel('Cost')\n",
    "plt.ylabel('Loss')\n"
   ]
  },
  {
   "cell_type": "code",
   "execution_count": null,
   "metadata": {},
   "outputs": [],
   "source": []
  },
  {
   "cell_type": "code",
   "execution_count": null,
   "metadata": {},
   "outputs": [],
   "source": [
    "\n",
    "# brier curve where c = score\n",
    "\n",
    "for i in range(1,df.shape[0]):\n",
    "    df.loc[i,'brier_loss'] = 2*df.loc[i,'score']*pi_0*(1-df.loc[i,'f0']) + 2*(1-df.loc[i,'score'])*pi_1*df.loc[i,'f1']\n",
    "\n",
    "df"
   ]
  },
  {
   "cell_type": "code",
   "execution_count": null,
   "metadata": {},
   "outputs": [],
   "source": [
    "fig, ax = plt.subplots()\n",
    "ax.set_xlim(0, 1)\n",
    "ax.set_ylim(0, 1)\n",
    "df.interpolate(method='linear').plot(kind = 'scatter', x = 'score', y ='brier_loss', ax=ax)\n"
   ]
  },
  {
   "cell_type": "code",
   "execution_count": null,
   "metadata": {},
   "outputs": [],
   "source": [
    "# Decision curve analysis\n",
    "# https://pmc.ncbi.nlm.nih.gov/articles/PMC2577036/\n",
    "\n",
    "# choose a threshold probability where the expected benefit of treatment is equal to the expected benefit of avoiding treatment\n",
    "\n",
    "#for c in np.arange(0, 1, 0.1):\n",
    "#    print(c)\n",
    "\n",
    "prevScore = -1\n",
    "prevLabel = -1\n",
    "for i in range(0,df.shape[0]):\n",
    "    print(prevScore)\n",
    "    #print(df[0:i])\n",
    "    if ((prevScore != df.loc[i,'score']) | (prevLabel == df.label[i])):\n",
    "        tp = (i - df[0:i].label.sum())\n",
    "        fp = df[0:i].label.sum()\n",
    "        print(tp, fp)\n",
    "        n = 15#df.shape[0]\n",
    "        #print(n)\n",
    "        #df.loc[i, 'netben'] = tp/n - ((fp/n)*(df.loc[i,'score']/(1-df.loc[i,'score'])))\n",
    "        #df.loc[i, 'netben_treatnone'] = 0/n - (0/n)*(df.loc[i,'score']/(1-df.loc[i,'score']))\n",
    "        #df.loc[i, 'netben_treatall'] = n_0/n - (n_1/n)*(df.loc[i,'score']/(1-df.loc[i,'score']))\n",
    "        dcaScore = 1 - df.loc[i,'score']\n",
    "        df.loc[i, 'netben'] = tp/n - (fp/n)*(dcaScore/(1-dcaScore))\n",
    "        df.loc[i, 'netben_treatnone'] = 0/n - (0/n)*(dcaScore/(1-dcaScore))\n",
    "        df.loc[i, 'netben_treatall'] = n_0/n - (n_1/n)*(dcaScore/(1-dcaScore))\n",
    "    else:\n",
    "        df.loc[i, 'netben'] = np.nan\n",
    "        \n",
    "    prevScore = df.loc[i,'score']\n",
    "    prevLabel = df.loc[i,'label']\n",
    "\n",
    "#df.loc[0,'netben'] = np.nan\n",
    "df.loc[0,'netben'] = 0\n",
    "df.loc[15,'netben'] = np.nan\n",
    "\n",
    "df\n"
   ]
  },
  {
   "cell_type": "code",
   "execution_count": null,
   "metadata": {},
   "outputs": [],
   "source": [
    "fig, ax = plt.subplots()\n",
    "ax.set_xlim(0, 1)\n",
    "ax.set_ylim(-1, 1)\n",
    "#df.interpolate(method='linear').plot(kind = 'line', x = 'score', y ='netben_treatall', ax=ax)\n",
    "\n",
    "df['dcaScore'] = 1 - df.score\n",
    "#dfnonan = df.dropna(subset='netben_treatall')\n",
    "dfnonan = df.dropna(subset='netben')\n",
    "dfnonan = dfnonan.set_index(\"dcaScore\")\n",
    "#dfnonan.reset_index(inplace=True)\n",
    "\n",
    "\n",
    "#dfnonan.plot(kind = 'line', x = 'dcaScore', y ='netben_treatall', ax=ax)\n",
    "#dfnonan.plot(kind = 'scatter', x = 'dcaScore', y ='netben', ax=ax, color='C2')\n",
    "\n",
    "dfnonan.plot(y='netben', ax=ax, color='C2', marker='o')\n",
    "dfnonan.plot(y='netben_treatall', ax=ax, marker='o')\n",
    "\n",
    "#dfnonan.plot(kind = 'scatter', x = 'dcaScore', y ='netben', ax=ax, color='C2', use_index=False)\n",
    "#dfnonan.plot(kind = 'line', x = 'dcaScore', y ='netben_treatall', ax=ax, use_index=False)\n",
    "#plt.plot(df.dcaScore, df.netben_treatall, use_index=False)\n",
    "#plt.scatter(x = df.dcaScore, y =df.netben)\n",
    "ax.axline((0, 0), slope=0, color='C1')\n",
    "\n",
    "print(\"prevalence:\", n_0/n)\n",
    "\n",
    "\n",
    "# plot vertical line for class distribution\n",
    "ax.axline((pi_0, -1), (pi_0, 0), color='C6')\n",
    "\n",
    "## TODO the treat all and treat none don't cross at the class distribution because of missing scores around that region.\n",
    "## to fix this create a separate dataframe with uniform score values and generate the treat all values for that.\n",
    "\n"
   ]
  },
  {
   "cell_type": "code",
   "execution_count": null,
   "metadata": {},
   "outputs": [],
   "source": [
    "print(df.to_string())"
   ]
  }
 ],
 "metadata": {
  "kernelspec": {
   "display_name": "Python 3",
   "language": "python",
   "name": "python3"
  },
  "language_info": {
   "codemirror_mode": {
    "name": "ipython",
    "version": 3
   },
   "file_extension": ".py",
   "mimetype": "text/x-python",
   "name": "python",
   "nbconvert_exporter": "python",
   "pygments_lexer": "ipython3",
   "version": "3.12.2"
  }
 },
 "nbformat": 4,
 "nbformat_minor": 2
}
