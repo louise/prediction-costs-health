{
 "cells": [
  {
   "cell_type": "code",
   "execution_count": null,
   "id": "c2afd40f",
   "metadata": {},
   "outputs": [],
   "source": [
    "import pandas as pd\n",
    "import numpy as np\n",
    "\n",
    "np.random.seed(1234)\n",
    "\n",
    "# positive class: 1 \n",
    "# negative class: 0\n",
    "\n",
    "# number of examples in each class\n",
    "n0 = 2000\n",
    "n1 = 2000\n",
    "\n",
    "# scores for each class generated from two normal distributions\n",
    "scores0=np.random.normal(loc=0.4, scale=0.1, size=n0)\n",
    "scores1=np.random.normal(loc=0.6, scale=0.1, size=n1)\n",
    "\n",
    "# plot the scores\n",
    "import matplotlib.pyplot as plt \n",
    "plt.hist(scores0, density=True, bins=30, alpha=0.5, label=\"Negative class\", color=\"skyblue\")\n",
    "plt.hist(scores1, density=True, bins=30, alpha=0.5, label=\"Positive class\", color=\"green\")\n",
    "plt.legend(loc='upper left')\n",
    "\n",
    "# create labels for the two classes\n",
    "labels0=np.zeros(n0)\n",
    "labels1=np.ones(n1)\n",
    "\n",
    "# create data frame of scores and labels\n",
    "scores= np.concatenate((scores0, scores1))\n",
    "labels= np.concatenate((labels0, labels1))\n",
    "\n",
    "d = {'score': scores, 'label':labels}\n",
    "\n",
    "df = pd.DataFrame(data=d)\n",
    "\n",
    "df = df.set_index(\"score\")\n",
    "df = df.sort_values('score')\n",
    "df.reset_index(inplace=True)\n",
    "\n",
    "# checking\n",
    "df.size\n",
    "#print(df.head(n=10))\n",
    "#print(df.tail(n=10))\n",
    "print(min(df.score))\n",
    "print(max(df.score))\n",
    "\n",
    "print('class distribution:', n0/(n0+n1))\n",
    "\n",
    "\n",
    "\n"
   ]
  },
  {
   "cell_type": "code",
   "execution_count": null,
   "id": "933b727c",
   "metadata": {},
   "outputs": [],
   "source": []
  }
 ],
 "metadata": {
  "kernelspec": {
   "display_name": "Python 3",
   "language": "python",
   "name": "python3"
  },
  "language_info": {
   "codemirror_mode": {
    "name": "ipython",
    "version": 3
   },
   "file_extension": ".py",
   "mimetype": "text/x-python",
   "name": "python",
   "nbconvert_exporter": "python",
   "pygments_lexer": "ipython3",
   "version": "3.12.2"
  }
 },
 "nbformat": 4,
 "nbformat_minor": 5
}
